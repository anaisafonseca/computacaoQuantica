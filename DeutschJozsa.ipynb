{
 "cells": [
  {
   "cell_type": "code",
   "execution_count": 35,
   "id": "e67fc538-cc0d-4ab8-9f9d-d545ebf5ba0d",
   "metadata": {},
   "outputs": [],
   "source": [
    "import numpy as np\n",
    "\n",
    "from qiskit import IBMQ, Aer, QuantumCircuit, assemble, transpile\n",
    "from qiskit.providers.ibmq import least_busy\n",
    "from qiskit.visualization import plot_histogram"
   ]
  },
  {
   "cell_type": "markdown",
   "id": "c6b73440-67a2-499e-9d25-cfefb4fab7e7",
   "metadata": {},
   "source": [
    "CIRCUITO ESPECÍFICO"
   ]
  },
  {
   "cell_type": "code",
   "execution_count": 36,
   "id": "c753b417-4516-4833-83d8-ce9e602a3a24",
   "metadata": {},
   "outputs": [],
   "source": [
    "n = 3\n",
    "const_oracle = QuantumCircuit(n+1)"
   ]
  },
  {
   "cell_type": "code",
   "execution_count": 37,
   "id": "06b2c981-04d8-4a65-b173-0ac944c4a45d",
   "metadata": {},
   "outputs": [],
   "source": [
    "output = np.random.randint(2)\n",
    "if output == 1:\n",
    "    const_oracle.x(n)"
   ]
  },
  {
   "cell_type": "code",
   "execution_count": 38,
   "id": "60a094ec-335b-4ab6-b6c6-64064ebe5052",
   "metadata": {},
   "outputs": [
    {
     "data": {
      "image/png": "[encoded data removed]",
      "text/plain": [
       "<Figure size 116.697x264.88 with 1 Axes>"
      ]
     },
     "execution_count": 38,
     "metadata": {},
     "output_type": "execute_result"
    }
   ],
   "source": [
    "const_oracle.draw()"
   ]
  },
  {
   "cell_type": "code",
   "execution_count": 39,
   "id": "ba793cc0-01c3-44c7-8fff-122d2472046d",
   "metadata": {},
   "outputs": [],
   "source": [
    "balanced_oracle = QuantumCircuit(n+1)"
   ]
  },
  {
   "cell_type": "code",
   "execution_count": 40,
   "id": "4c133e5a-8580-40ac-9518-12bb330acaa2",
   "metadata": {},
   "outputs": [],
   "source": [
    "b_str = \"101\"\n",
    "for qubit in range(len(b_str)):\n",
    "    if b_str[qubit] == '1':\n",
    "        balanced_oracle.x(qubit)"
   ]
  },
  {
   "cell_type": "code",
   "execution_count": 41,
   "id": "0fa01a98-8113-4db8-9ccd-92c7f6f84d93",
   "metadata": {},
   "outputs": [
    {
     "data": {
      "image/png": "[encoded data removed]",
      "text/plain": [
       "<Figure size 146.797x264.88 with 1 Axes>"
      ]
     },
     "execution_count": 41,
     "metadata": {},
     "output_type": "execute_result"
    }
   ],
   "source": [
    "balanced_oracle.draw()"
   ]
  },
  {
   "cell_type": "code",
   "execution_count": 8,
   "id": "897f0497-8483-49e6-b37c-0006ad675a2d",
   "metadata": {},
   "outputs": [
    {
     "data": {
      "text/plain": [
       "<qiskit.circuit.instructionset.InstructionSet at 0x7fb0dc8ef600>"
      ]
     },
     "execution_count": 8,
     "metadata": {},
     "output_type": "execute_result"
    }
   ],
   "source": [
    "balanced_oracle.barrier()"
   ]
  },
  {
   "cell_type": "code",
   "execution_count": 9,
   "id": "0c792062-37c2-4cc4-8de0-b6c76ab47c1c",
   "metadata": {},
   "outputs": [
    {
     "data": {
      "text/plain": [
       "<qiskit.circuit.instructionset.InstructionSet at 0x7fb0dc986900>"
      ]
     },
     "execution_count": 9,
     "metadata": {},
     "output_type": "execute_result"
    }
   ],
   "source": [
    "for qubit in range(n):\n",
    "    balanced_oracle.cx(qubit, n)\n",
    "\n",
    "balanced_oracle.barrier()"
   ]
  },
  {
   "cell_type": "code",
   "execution_count": 10,
   "id": "b144ca27-14e6-4699-9571-5c176b43357d",
   "metadata": {},
   "outputs": [
    {
     "data": {
      "image/png": "[encoded data removed]",
      "text/plain": [
       "<Figure size 447.797x264.88 with 1 Axes>"
      ]
     },
     "execution_count": 10,
     "metadata": {},
     "output_type": "execute_result"
    }
   ],
   "source": [
    "balanced_oracle.draw()"
   ]
  },
  {
   "cell_type": "code",
   "execution_count": 11,
   "id": "bac30008-1cbd-4bca-b1d6-bb615c078145",
   "metadata": {},
   "outputs": [],
   "source": [
    "for qubit in range(len(b_str)):\n",
    "    if b_str[qubit] == '1':\n",
    "        balanced_oracle.x(qubit)"
   ]
  },
  {
   "cell_type": "code",
   "execution_count": 12,
   "id": "f72731e4-80b2-474e-a55a-16869fc3c867",
   "metadata": {},
   "outputs": [
    {
     "data": {
      "image/png": "[encoded data removed]",
      "text/plain": [
       "<Figure size 507.997x264.88 with 1 Axes>"
      ]
     },
     "execution_count": 12,
     "metadata": {},
     "output_type": "execute_result"
    }
   ],
   "source": [
    "balanced_oracle.draw()"
   ]
  },
  {
   "cell_type": "code",
   "execution_count": 13,
   "id": "7d8ae316-cc1d-4229-aa6f-453403336958",
   "metadata": {},
   "outputs": [],
   "source": [
    "dj_circuit = QuantumCircuit(n+1, n)"
   ]
  },
  {
   "cell_type": "code",
   "execution_count": 14,
   "id": "a9481452-e087-4f5b-9e4a-69eab6d13076",
   "metadata": {},
   "outputs": [
    {
     "data": {
      "text/plain": [
       "<qiskit.circuit.instructionset.InstructionSet at 0x7fb0dc342200>"
      ]
     },
     "execution_count": 14,
     "metadata": {},
     "output_type": "execute_result"
    }
   ],
   "source": [
    "for qubit in range(n):\n",
    "    dj_circuit.h(qubit)\n",
    "    \n",
    "dj_circuit.x(n)\n",
    "dj_circuit.h(n)"
   ]
  },
  {
   "cell_type": "code",
   "execution_count": 15,
   "id": "263b3751-0c2f-499b-b108-c9bb68b94fce",
   "metadata": {},
   "outputs": [
    {
     "data": {
      "image/png": "[encoded data removed]",
      "text/plain": [
       "<Figure size 206.997x325.08 with 1 Axes>"
      ]
     },
     "execution_count": 15,
     "metadata": {},
     "output_type": "execute_result"
    }
   ],
   "source": [
    "dj_circuit.draw()"
   ]
  },
  {
   "cell_type": "code",
   "execution_count": 16,
   "id": "b1eeaa75-22d4-435f-a609-c306b7f6393f",
   "metadata": {},
   "outputs": [
    {
     "name": "stderr",
     "output_type": "stream",
     "text": [
      "/tmp/ipykernel_346/254046861.py:1: DeprecationWarning: The QuantumCircuit.__iadd__() method is being deprecated. Use the compose() (potentially with the inplace=True argument) and tensor() methods which are more flexible w.r.t circuit register compatibility.\n",
      "  dj_circuit += balanced_oracle\n"
     ]
    }
   ],
   "source": [
    "dj_circuit += balanced_oracle"
   ]
  },
  {
   "cell_type": "code",
   "execution_count": 17,
   "id": "f7423dd8-8a8f-4670-9b6c-1d4e43297eed",
   "metadata": {},
   "outputs": [
    {
     "data": {
      "image/png": "[encoded data removed]",
      "text/plain": [
       "<Figure size 568.197x325.08 with 1 Axes>"
      ]
     },
     "execution_count": 17,
     "metadata": {},
     "output_type": "execute_result"
    }
   ],
   "source": [
    "dj_circuit.draw()"
   ]
  },
  {
   "cell_type": "code",
   "execution_count": 18,
   "id": "ae9c050f-205d-46d9-a403-2b97897852fd",
   "metadata": {},
   "outputs": [
    {
     "data": {
      "text/plain": [
       "<qiskit.circuit.instructionset.InstructionSet at 0x7fb0dc0fa180>"
      ]
     },
     "execution_count": 18,
     "metadata": {},
     "output_type": "execute_result"
    }
   ],
   "source": [
    "for qubit in range(n):\n",
    "    dj_circuit.h(qubit)\n",
    "    \n",
    "dj_circuit.barrier()"
   ]
  },
  {
   "cell_type": "code",
   "execution_count": 19,
   "id": "b6498dba-f0bc-43b9-9f61-d9eaf42c1ece",
   "metadata": {},
   "outputs": [],
   "source": [
    "for i in range(n):\n",
    "    dj_circuit.measure(i, i)"
   ]
  },
  {
   "cell_type": "code",
   "execution_count": 20,
   "id": "8e62a1c5-f93c-45c6-b3b6-6d25aeb87efa",
   "metadata": {},
   "outputs": [
    {
     "data": {
      "image/png": "[encoded data removed]",
      "text/plain": [
       "<Figure size 869.197x325.08 with 1 Axes>"
      ]
     },
     "execution_count": 20,
     "metadata": {},
     "output_type": "execute_result"
    }
   ],
   "source": [
    "dj_circuit.draw()"
   ]
  },
  {
   "cell_type": "code",
   "execution_count": 21,
   "id": "8bcb3e68-51b3-4a4e-b2de-df8543bc433f",
   "metadata": {},
   "outputs": [],
   "source": [
    "aer_sim = Aer.get_backend('aer_simulator')\n",
    "qobj = assemble(dj_circuit, aer_sim)\n",
    "results = aer_sim.run(qobj).result()\n",
    "answer = results.get_counts()"
   ]
  },
  {
   "cell_type": "code",
   "execution_count": 22,
   "id": "a88da45a-7bd6-451b-a9ee-ef7ffb5bef70",
   "metadata": {},
   "outputs": [
    {
     "data": {
      "image/png": "[encoded data removed]",
      "text/plain": [
       "<Figure size 504x360 with 1 Axes>"
      ]
     },
     "execution_count": 22,
     "metadata": {},
     "output_type": "execute_result"
    }
   ],
   "source": [
    "plot_histogram(answer)"
   ]
  },
  {
   "cell_type": "markdown",
   "id": "f8af226c-1e8e-4038-9628-2a3f74e5a85e",
   "metadata": {},
   "source": [
    "CIRCUITO GENERALIZADO"
   ]
  },
  {
   "cell_type": "markdown",
   "id": "2c32f9f7-2067-4a60-b132-5ce612167f26",
   "metadata": {},
   "source": [
    "Teste SIMULADOR"
   ]
  },
  {
   "cell_type": "code",
   "execution_count": 23,
   "id": "d3cb1747-b00e-4f6c-9aee-dfe699940d42",
   "metadata": {},
   "outputs": [],
   "source": [
    "def dj_oracle(case, n):\n",
    "    oracle_qc = QuantumCircuit(n+1)\n",
    "    \n",
    "    if case == 'balanced':\n",
    "        b = np.random.randint(1, 2**n)\n",
    "        b_str = format(b, '0'+str(n)+'b')\n",
    "        for qubit in range(len(b_str)):\n",
    "            if b_str[qubit] == '1':\n",
    "                oracle_qc.x(qubit)\n",
    "        for qubit in range(n):\n",
    "            oracle_qc.cx(qubit, n)\n",
    "        for qubit in range(len(b_str)):\n",
    "            if b_str[qubit] == '1':\n",
    "                oracle_qc.x(qubit)\n",
    "    \n",
    "    if case == 'constant':\n",
    "        output = np.random.randint(2)\n",
    "        if output == 1:\n",
    "            oracle_qc.x(n)\n",
    "    \n",
    "    oracle_gate = oracle_qc.to_gate()\n",
    "    oracle_gate.name = 'Oracle'\n",
    "    \n",
    "    return oracle_gate"
   ]
  },
  {
   "cell_type": "code",
   "execution_count": 24,
   "id": "4a2237f2-68fa-4bd4-b035-d9eb57a7d903",
   "metadata": {},
   "outputs": [],
   "source": [
    "def dj_algorithm(oracle, n):\n",
    "    dj_circuit = QuantumCircuit(n+1, n)\n",
    "    \n",
    "    dj_circuit.x(n)\n",
    "    dj_circuit.h(n)\n",
    "    \n",
    "    for qubit in range(n):\n",
    "        dj_circuit.h(qubit)\n",
    "    \n",
    "    dj_circuit.append(oracle, range(n+1))\n",
    "    \n",
    "    for qubit in range(n):\n",
    "        dj_circuit.h(qubit)\n",
    "        \n",
    "    for i in range(n):\n",
    "        dj_circuit.measure(i, i)\n",
    "    \n",
    "    return dj_circuit"
   ]
  },
  {
   "cell_type": "code",
   "execution_count": 25,
   "id": "c50eaf63-f9a7-4ca3-9b96-c61a288c010c",
   "metadata": {},
   "outputs": [],
   "source": [
    "n = 4\n",
    "oracle_gate = dj_oracle('balanced', n)\n",
    "dj_circuit = dj_algorithm(oracle_gate, n)"
   ]
  },
  {
   "cell_type": "code",
   "execution_count": 26,
   "id": "65536c8c-4c41-4f36-9ce9-e6f2bb84f1db",
   "metadata": {},
   "outputs": [
    {
     "data": {
      "image/png": "[encoded data removed]",
      "text/plain": [
       "<Figure size 628.397x385.28 with 1 Axes>"
      ]
     },
     "execution_count": 26,
     "metadata": {},
     "output_type": "execute_result"
    }
   ],
   "source": [
    "dj_circuit.draw()"
   ]
  },
  {
   "cell_type": "code",
   "execution_count": 27,
   "id": "6397802c-c959-4f94-84db-abe95797db34",
   "metadata": {},
   "outputs": [],
   "source": [
    "trans_dj_circuit = transpile(dj_circuit, aer_sim)\n",
    "qobj = assemble(trans_dj_circuit)\n",
    "results = aer_sim.run(qobj).result()\n",
    "answer = results.get_counts()"
   ]
  },
  {
   "cell_type": "code",
   "execution_count": 28,
   "id": "5168b1be-bd5a-443d-8cc2-6a26b42df11f",
   "metadata": {},
   "outputs": [
    {
     "data": {
      "image/png": "[encoded data removed]",
      "text/plain": [
       "<Figure size 504x360 with 1 Axes>"
      ]
     },
     "execution_count": 28,
     "metadata": {},
     "output_type": "execute_result"
    }
   ],
   "source": [
    "plot_histogram(answer)"
   ]
  },
  {
   "cell_type": "markdown",
   "id": "3124797c-e2ec-41c6-8202-c00ade0533f7",
   "metadata": {},
   "source": [
    "Teste COMPUTADOR QUÂNTICO"
   ]
  },
  {
   "cell_type": "code",
   "execution_count": 29,
   "id": "bdd5a3bf-8969-48e9-badb-fb274cb003b0",
   "metadata": {},
   "outputs": [
    {
     "name": "stdout",
     "output_type": "stream",
     "text": [
      "least busy backend:  ibmq_quito\n"
     ]
    }
   ],
   "source": [
    "IBMQ.load_account()\n",
    "provider = IBMQ.get_provider(hub='ibm-q')\n",
    "backend = least_busy(provider.backends(filters=lambda x: x.configuration().n_qubits >= (n+1) and\n",
    "                                   not x.configuration().simulator and x.status().operational==True))\n",
    "print(\"least busy backend: \", backend)"
   ]
  },
  {
   "cell_type": "code",
   "execution_count": 30,
   "id": "34a57393-5bc9-4fde-adb0-32f4943d8b92",
   "metadata": {},
   "outputs": [
    {
     "name": "stdout",
     "output_type": "stream",
     "text": [
      "Job Status: job has successfully run\n"
     ]
    }
   ],
   "source": [
    "from qiskit.tools.monitor import job_monitor\n",
    "\n",
    "transpiled_dj_circuit = transpile(dj_circuit, backend, optimization_level=3)\n",
    "job = backend.run(transpiled_dj_circuit)\n",
    "job_monitor(job, interval=2)"
   ]
  },
  {
   "cell_type": "code",
   "execution_count": 31,
   "id": "53bda156-f13e-4f42-b5ba-401524283fae",
   "metadata": {},
   "outputs": [],
   "source": [
    "results = job.result()\n",
    "answer = results.get_counts()"
   ]
  },
  {
   "cell_type": "code",
   "execution_count": 32,
   "id": "b76efa77-14b9-42f4-95e4-4e675fb89236",
   "metadata": {},
   "outputs": [
    {
     "data": {
      "image/png": "[encoded data removed]",
      "text/plain": [
       "<Figure size 504x360 with 1 Axes>"
      ]
     },
     "execution_count": 32,
     "metadata": {},
     "output_type": "execute_result"
    }
   ],
   "source": [
    "plot_histogram(answer)"
   ]
  },
  {
   "cell_type": "code",
   "execution_count": null,
   "id": "fa474627-7e92-4844-bbfb-91bb17a9a638",
   "metadata": {},
   "outputs": [],
   "source": []
  }
 ],
 "metadata": {
  "kernelspec": {
   "display_name": "Qiskit v0.34.2 (ipykernel)",
   "language": "python",
   "name": "python3"
  },
  "language_info": {
   "codemirror_mode": {
    "name": "ipython",
    "version": 3
   },
   "file_extension": ".py",
   "mimetype": "text/x-python",
   "name": "python",
   "nbconvert_exporter": "python",
   "pygments_lexer": "ipython3",
   "version": "3.8.12"
  },
  "widgets": {
   "application/vnd.jupyter.widget-state+json": {
    "state": {},
    "version_major": 2,
    "version_minor": 0
   }
  }
 },
 "nbformat": 4,
 "nbformat_minor": 5
}
